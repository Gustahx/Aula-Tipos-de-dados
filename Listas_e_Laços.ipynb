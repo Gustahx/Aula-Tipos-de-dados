{
  "nbformat": 4,
  "nbformat_minor": 0,
  "metadata": {
    "colab": {
      "provenance": []
    },
    "kernelspec": {
      "name": "python3",
      "display_name": "Python 3"
    },
    "language_info": {
      "name": "python"
    }
  },
  "cells": [
    {
      "cell_type": "markdown",
      "source": [
        "Listas."
      ],
      "metadata": {
        "id": "Nw3KwTHc_tik"
      }
    },
    {
      "cell_type": "code",
      "execution_count": null,
      "metadata": {
        "id": "bFp65ooq_sNk",
        "outputId": "8987844f-bee8-463a-f394-84526d83cffc",
        "colab": {
          "base_uri": "https://localhost:8080/"
        }
      },
      "outputs": [
        {
          "output_type": "execute_result",
          "data": {
            "text/plain": [
              "6"
            ]
          },
          "metadata": {},
          "execution_count": 1
        }
      ],
      "source": [
        "num = [1, 8, 6, 7, 5, 2]\n",
        "len(num)"
      ]
    },
    {
      "cell_type": "code",
      "source": [
        "num[5]"
      ],
      "metadata": {
        "id": "6M0LJQz7C6E_"
      },
      "execution_count": null,
      "outputs": []
    },
    {
      "cell_type": "code",
      "source": [
        "print(num[0])\n",
        "print(num[1])\n",
        "print(num[2])\n",
        "print(num[3])\n",
        "print(num[4])\n",
        "print(num[5])"
      ],
      "metadata": {
        "id": "deY4jiGjEBVJ"
      },
      "execution_count": null,
      "outputs": []
    },
    {
      "cell_type": "code",
      "source": [
        "alunos = ['Gabriel', 'Léo', 'Jessica', 'Arielly', 'Gustavo', 'Luzia']\n",
        "len(alunos)"
      ],
      "metadata": {
        "id": "wbSF8LtRDOKH"
      },
      "execution_count": null,
      "outputs": []
    },
    {
      "cell_type": "code",
      "source": [
        "alunos[1] = 'Vitor'\n",
        "alunos.append('Caiky')\n",
        "alunos"
      ],
      "metadata": {
        "id": "rgMkRPXTEyww"
      },
      "execution_count": null,
      "outputs": []
    },
    {
      "cell_type": "code",
      "source": [
        "alunos.append(input('Digite o nome '))\n",
        "alunos"
      ],
      "metadata": {
        "id": "CJuTUQdnFHRn"
      },
      "execution_count": null,
      "outputs": []
    },
    {
      "cell_type": "code",
      "source": [
        "nome = input('Digite o nome: ')\n",
        "if nome in alunos : \n",
        "  print('Possui' , nome )\n",
        "else: \n",
        "  print('Não possui' , nome )"
      ],
      "metadata": {
        "id": "o5CAidS2M3dZ"
      },
      "execution_count": null,
      "outputs": []
    },
    {
      "cell_type": "code",
      "source": [
        "print(alunos[0])\n",
        "print(alunos[1])\n",
        "print(alunos[2])\n",
        "print(alunos[3])\n",
        "print(alunos[4])\n",
        "print(alunos[5])"
      ],
      "metadata": {
        "id": "DqSl99-YNlIo"
      },
      "execution_count": null,
      "outputs": []
    },
    {
      "cell_type": "code",
      "source": [
        "valor = int (input('Digite um valor '))\n",
        " \n",
        "if (valor == 20) :\n",
        "  print('Igual que 20')\n",
        "elif (valor > 20):\n",
        "  print('Maior que 20')\n",
        "else:\n",
        "  print('Menor que 20')"
      ],
      "metadata": {
        "id": "Vd_dCJzQOq4-"
      },
      "execution_count": null,
      "outputs": []
    },
    {
      "cell_type": "code",
      "source": [
        "del alunos[0]\n",
        "alunos"
      ],
      "metadata": {
        "id": "Re5bQ4A4QyBQ"
      },
      "execution_count": null,
      "outputs": []
    },
    {
      "cell_type": "code",
      "source": [
        " frutas = ['jaca' , 'manga' , 'morango' , 'pinha' , 'goiaba']\n",
        " for i in frutas :\n",
        "  print(i)"
      ],
      "metadata": {
        "id": "4lY7LsHwFWdT"
      },
      "execution_count": null,
      "outputs": []
    },
    {
      "cell_type": "code",
      "source": [
        "for i in frutas : \n",
        "  if (i == 'morango'):\n",
        "    print(i)"
      ],
      "metadata": {
        "id": "VZiVuJ7GGFz6"
      },
      "execution_count": null,
      "outputs": []
    },
    {
      "cell_type": "code",
      "source": [
        "fruta = input('Insira uma fruta : ')\n",
        "frutas.append(fruta)\n",
        "frutas"
      ],
      "metadata": {
        "id": "LqGeKMkmHpJX"
      },
      "execution_count": null,
      "outputs": []
    },
    {
      "cell_type": "code",
      "source": [
        "notas = [8, 9, 7, 6, 5, 10, 4]\n",
        "for nota in notas :\n",
        "  if(nota >= 7) :\n",
        "    print(nota)"
      ],
      "metadata": {
        "id": "YnnaAAhlIdpl"
      },
      "execution_count": null,
      "outputs": []
    },
    {
      "cell_type": "code",
      "source": [
        "#Exiba a quantidade de aprovados e reprovados.\n",
        "aprovados = 0 \n",
        "reprovados = 0\n",
        "for nota in notas:\n",
        "  if(nota >=7):\n",
        "    aprovados += 1\n",
        "  else:\n",
        "    reprovados += 1\n",
        "\n",
        "print('aprovados : ' , aprovados )\n",
        "print('reprovados : ' , reprovados )"
      ],
      "metadata": {
        "id": "e5LOsfiTLopc"
      },
      "execution_count": null,
      "outputs": []
    },
    {
      "cell_type": "code",
      "source": [
        "#Criar um programa que lista de 1 a 10\n",
        "#para isto , precisamos de um contador.\n",
        "cont = 1 \n",
        "numeros = []\n",
        "\n",
        "while (cont <= 10) :\n",
        "  numeros.append(cont)\n",
        "  cont += 1\n",
        "\n",
        "numeros"
      ],
      "metadata": {
        "id": "VDNiZPtqRwJR"
      },
      "execution_count": null,
      "outputs": []
    },
    {
      "cell_type": "code",
      "source": [
        "#modifique o cod anterior , para solicitar um tamanho de lista \n",
        "#X e com o laço while , crie a nova lista , do tamanho desejado.\n",
        "\n",
        "cont = 1\n",
        "numeros = []\n",
        "tamanho = int(input('Digite o tamanho da lista : '))\n",
        "\n",
        "while (cont <= tamanho ):\n",
        "  numeros.append(cont)\n",
        "  cont += 1\n",
        "\n",
        "numeros"
      ],
      "metadata": {
        "id": "_QyqSx6DSQED"
      },
      "execution_count": null,
      "outputs": []
    },
    {
      "cell_type": "code",
      "source": [
        "#Inserir nomes de Cidades\n",
        "#O laço encerra ,  quando digitar 0 .\n",
        "cidades = []\n",
        "city  = input('Digite uma cidade: ')\n",
        "\n",
        "\n",
        "while(city != '0') :\n",
        "  cidades.append(city)\n",
        "  city  = input('Digite uma cidade: ')\n",
        "\n",
        "cidades"
      ],
      "metadata": {
        "id": "iVhuM0jIUFt_"
      },
      "execution_count": null,
      "outputs": []
    },
    {
      "cell_type": "code",
      "source": [
        "num = int(input('Digite um valor : '))\n",
        "\n",
        "while(num >= 0 ) :\n",
        " if(num % 2 == 0):\n",
        "  print('É par')\n",
        "  num = int(input('Digite um valor : ')) \n",
        " else: \n",
        "  print('É impar')\n",
        "  num = int(input('Digite um valor : ')) \n",
        "\n",
        "print('Finish Him!!!')"
      ],
      "metadata": {
        "id": "T97fdDDuYAXz"
      },
      "execution_count": null,
      "outputs": []
    },
    {
      "cell_type": "markdown",
      "source": [
        "Laços."
      ],
      "metadata": {
        "id": "bbVEFMlXSj3z"
      }
    },
    {
      "cell_type": "code",
      "source": [
        "numeros = []\n",
        "for num in range(11) :\n",
        "  numeros.append(num)"
      ],
      "metadata": {
        "id": "65AIVvkgSnPa"
      },
      "execution_count": null,
      "outputs": []
    },
    {
      "cell_type": "code",
      "source": [
        "dobro = []\n",
        "for num in numeros :\n",
        "  dobro.append(numeros[num]*2)\n",
        "\n",
        "dobro"
      ],
      "metadata": {
        "id": "9FGJwBYaUat2"
      },
      "execution_count": null,
      "outputs": []
    },
    {
      "cell_type": "code",
      "source": [
        "a = int(input('Digite um valor : '))\n",
        "if a%2 == 0:\n",
        "  print('É par')\n",
        "else: \n",
        "  print('É impar')"
      ],
      "metadata": {
        "id": "M_qCBY_qWdiT"
      },
      "execution_count": null,
      "outputs": []
    },
    {
      "cell_type": "code",
      "source": [
        "for num in numeros:\n",
        "   if numeros[num]%2 == 0:\n",
        "     print(numeros[num])"
      ],
      "metadata": {
        "id": "DgR1ScYvam2r"
      },
      "execution_count": null,
      "outputs": []
    }
  ]
}