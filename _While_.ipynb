{
  "nbformat": 4,
  "nbformat_minor": 0,
  "metadata": {
    "colab": {
      "provenance": []
    },
    "kernelspec": {
      "name": "python3",
      "display_name": "Python 3"
    },
    "language_info": {
      "name": "python"
    }
  },
  "cells": [
    {
      "cell_type": "code",
      "execution_count": null,
      "metadata": {
        "id": "zpkmXzyRDLtk"
      },
      "outputs": [],
      "source": [
        "#Pede ao usuário para inserir um número inteiro maior que 1\n",
        "#O programa deve imprimir todos os números até o numero digitado.\n",
        "num = int (input('Digite um numero maior que 1 : ')) \n",
        "cont = 0\n",
        "while (cont <= num):\n",
        "  if(num > 1):\n",
        "    print(cont)\n",
        "  else: \n",
        "    print('Digite um numero maior que 1. ') \n",
        "  cont+=1\n"
      ]
    },
    {
      "cell_type": "code",
      "source": [
        "#Pede ao usuário para inserir um número inteiro maior que 0\n",
        "#O programa deve imprimir a soma de todos os números até o numero digitado.\n",
        "num = int(input('Digite um numero maior que  : ')) \n",
        "cont = 0\n",
        "listNumerica = []\n",
        "while (cont <= num):\n",
        "  listNumerica.append(cont)\n",
        "  cont+=1\n",
        "print(sum(listNumerica))"
      ],
      "metadata": {
        "id": "ayYxZgboKFqg"
      },
      "execution_count": null,
      "outputs": []
    },
    {
      "cell_type": "code",
      "source": [
        "#Pede ao usuário para inserir um número inteiro maior que 0\n",
        "#O programa deve imprimir a soma de todos os números até o número digitado. \n",
        "#Outra Forma :\n",
        "num = int(input('Digite um numero maior que  : ')) \n",
        "cont = 0\n",
        "soma = 0\n",
        "while (cont <= num): \n",
        "    soma += cont\n",
        "    cont+=1\n",
        "print(soma)   "
      ],
      "metadata": {
        "id": "QLP32tEFM3px"
      },
      "execution_count": null,
      "outputs": []
    },
    {
      "cell_type": "code",
      "source": [
        "#Pede a senha do Usuário . E dá 5 chances para o usuário inserir a senha correta.\n",
        "password = 'vasco'\n",
        "userPass = input('Put your password : ')\n",
        "cont = 0\n",
        "while (cont < 3):\n",
        "  cont+=1\n",
        "  if(userPass == password):\n",
        "    break\n",
        "  else: \n",
        "    print('Wrong password')\n",
        "    userPass = input('Try again :')\n",
        "\n",
        "if(cont == 3):\n",
        "  print('Your account was blocked , ass hole !!!')\n",
        "else:\n",
        "  print('Welcome . Please Wait.')"
      ],
      "metadata": {
        "id": "z3cvpUSkOXWW"
      },
      "execution_count": null,
      "outputs": []
    },
    {
      "cell_type": "code",
      "source": [
        "#Testar a entrada do usuário\n",
        "#isdigit() Verificar se o que foi digitado é um numero ou não\n",
        "num = input('Digite um numero : ')\n",
        "num.isdigit()"
      ],
      "metadata": {
        "id": "nGdjd6IWYrZE"
      },
      "execution_count": null,
      "outputs": []
    },
    {
      "cell_type": "code",
      "source": [
        "#Solicitar que o usuário um nome . Caso ele digte um número , avise \"Entrada\" . \n",
        "nome = input('Digite o nome : ')\n",
        "if(nome.isdigit()) :\n",
        "  print('Entrada incorreta')\n",
        "else:\n",
        "  print(f'O nome {nome} foi inserido com sucesso . ')"
      ],
      "metadata": {
        "id": "QcZd4jtuZIdn"
      },
      "execution_count": null,
      "outputs": []
    },
    {
      "cell_type": "code",
      "source": [
        "texto = input('Digite aí :')\n",
        "texto.isalpha()"
      ],
      "metadata": {
        "id": "49Rn1KXZZ8r1"
      },
      "execution_count": null,
      "outputs": []
    },
    {
      "cell_type": "code",
      "source": [
        "#Solicitar que o usuário digite nomes de animais que serão inseridos em uma lista\n",
        "#O programa encerra quando um número for digitado.\n",
        "#ao final . exibe-se na tela a listade animais.\n",
        "animais = []\n",
        "animal = input('Digite um nome de animal : ')\n",
        "\n",
        "while(animal.isdigit() == False ) :\n",
        "  animais.append(animal)\n",
        "  animal = input('Digite um nome de animal : ')\n",
        "\n",
        "animais"
      ],
      "metadata": {
        "id": "n49LBxfibAvN"
      },
      "execution_count": null,
      "outputs": []
    }
  ]
}