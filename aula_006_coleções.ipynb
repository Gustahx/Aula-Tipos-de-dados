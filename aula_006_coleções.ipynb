{
  "nbformat": 4,
  "nbformat_minor": 0,
  "metadata": {
    "colab": {
      "provenance": [],
      "authorship_tag": "ABX9TyMyyYDS804keZFEf6fLUYK0",
      "include_colab_link": true
    },
    "kernelspec": {
      "name": "python3",
      "display_name": "Python 3"
    },
    "language_info": {
      "name": "python"
    }
  },
  "cells": [
    {
      "cell_type": "markdown",
      "metadata": {
        "id": "view-in-github",
        "colab_type": "text"
      },
      "source": [
        "<a href=\"https://colab.research.google.com/github/Gustahx/Program---Python/blob/main/aula_006_cole%C3%A7%C3%B5es.ipynb\" target=\"_parent\"><img src=\"https://colab.research.google.com/assets/colab-badge.svg\" alt=\"Open In Colab\"/></a>"
      ]
    },
    {
      "cell_type": "code",
      "execution_count": null,
      "metadata": {
        "id": "1LxOUZCnch2B"
      },
      "outputs": [],
      "source": [
        "# Crie uma lista de nomes de frutas e ordene-a em ordem decrescente.\n",
        "frutas = ['Maça', 'Banana', 'Uva', 'Pitaya', 'Laranja']\n",
        "frutas.sort(reverse=True)\n",
        "\n",
        "frutas"
      ]
    },
    {
      "cell_type": "code",
      "source": [
        "#Dada uma lista de números, retorne uma lista contendo o quadrado de cada número.\n",
        "num = [4, 6, 5, 2]\n",
        "newList = list(map(lambda x: x*x, num))\n",
        "newList"
      ],
      "metadata": {
        "id": "AS1-KAL_ldmf"
      },
      "execution_count": null,
      "outputs": []
    },
    {
      "cell_type": "code",
      "source": [
        "#Recebe uma lista de frutas, retorne uma lista de caracteres.\n",
        "fruits = ['Jaca', 'Banana', 'Maça', 'Pitaya', 'Limão']\n",
        "newList = list(map(lambda x: len(x), fruits))\n",
        "newList"
      ],
      "metadata": {
        "id": "6LNG8siRrAz5"
      },
      "execution_count": null,
      "outputs": []
    },
    {
      "cell_type": "code",
      "source": [
        "#Pegar os preços de um lista e adicionar 2 a cada um deles.\n",
        "prize = [9, 3, 5, 4, 7]\n",
        "more = list(map(lambda x: x+2, prize))\n",
        "more"
      ],
      "metadata": {
        "id": "TzdvU-4Is6CA"
      },
      "execution_count": null,
      "outputs": []
    },
    {
      "cell_type": "code",
      "source": [
        "#Apenas os Aprovados.\n",
        "notas = [6, 7, 8, 2, 4]\n",
        "aprovados = list(filter(lambda x: x>=7, notas))\n",
        "aprovados"
      ],
      "metadata": {
        "id": "YHPTZDTKvuAG"
      },
      "execution_count": null,
      "outputs": []
    },
    {
      "cell_type": "code",
      "source": [
        "#Escreva uma função que recebe uma lista de números e \n",
        "#retorna uma nova lista contendo apenas os números divisíveis por 3.\n",
        "lista = [6, 8, 9, 7]\n",
        "div = list(filter(lambda x: x%3==0, lista))\n",
        "div"
      ],
      "metadata": {
        "id": "IDNO1YLMwLRB"
      },
      "execution_count": null,
      "outputs": []
    },
    {
      "cell_type": "code",
      "source": [
        "#Escreva uma função que recebe uma lista de strings e\n",
        "#retorna uma nova lista contendo as strings em ordem reversa.\n",
        "futebol = ['Estádio', 'Arquibancada', 'Campo', 'Trave']\n",
        "futebol.sort(reverse=True)\n",
        "futebol"
      ],
      "metadata": {
        "id": "ChGm8IKRwpZt"
      },
      "execution_count": null,
      "outputs": []
    },
    {
      "cell_type": "markdown",
      "source": [
        "TUPLAS\n",
        "\n",
        "Uma tupla é uma coleção ordenada e imutável de elementos em Python."
      ],
      "metadata": {
        "id": "tEk2PCR8VH5J"
      }
    },
    {
      "cell_type": "code",
      "source": [
        "tp_frutas = ('maçã', 'banana', 'laranja', 'goiaba')\n",
        "tp_frutas"
      ],
      "metadata": {
        "id": "E_owSMinUckK"
      },
      "execution_count": null,
      "outputs": []
    },
    {
      "cell_type": "code",
      "source": [
        "lst_frutas = list(tp_frutas)\n",
        "type(lst_frutas)\n",
        "lst_frutas"
      ],
      "metadata": {
        "id": "juuL9aGrVNQi"
      },
      "execution_count": null,
      "outputs": []
    },
    {
      "cell_type": "code",
      "source": [
        "#Usando o processo de fatiamento, crie uma nova tupla apenas \n",
        "#com os meses do segundo trimestre (abril - Jun)\n",
        "tp_meses = ('Janeiro', 'Fevereiro', 'Março', 'Abril', 'Maio', 'Junho', 'Julho', 'Agosto', 'Setembro', 'Outubro', 'Novembro', 'Dezembro')\n",
        "tp_meses[3:6]"
      ],
      "metadata": {
        "id": "U_wqF8H5ZX4Z"
      },
      "execution_count": null,
      "outputs": []
    },
    {
      "cell_type": "code",
      "source": [
        "#Ordenação de dados *sort(value, key = x)\n",
        "#Ordenar os estados pelo DDD e não pelo nome\n",
        "uf_cod = [('PE', 81), ('RJ', 21), ('SP', 11), ('PB', 83)]\n",
        "sorted(uf_cod, key = lambda x : x[1])\n",
        "     "
      ],
      "metadata": {
        "id": "MgOKkJEqcAZS"
      },
      "execution_count": null,
      "outputs": []
    },
    {
      "cell_type": "code",
      "source": [
        "#Coloque a tupla a seguir em ordem \n",
        "#do mais novo para o mais velho\n",
        "#e do mais velho pro mais novo\n",
        "nome_nasc = [('Zé', 2003),('Maria', 1998),('Alice', 2000)]\n",
        "\n",
        "sorted(nome_nasc, key = lambda x : x[1], reverse=True) #do mais novo para o mais velho\n"
      ],
      "metadata": {
        "id": "TUoar-qPc1kw"
      },
      "execution_count": null,
      "outputs": []
    },
    {
      "cell_type": "code",
      "source": [
        "#Desempacotamento de Valores.\n",
        "def nome_idade_uf():\n",
        "  nome = 'Gustavo'\n",
        "  idade = 18\n",
        "  uf = 'PB'\n",
        "  return nome, idade, uf\n",
        "\n",
        "name, age, uf = nome_idade_uf()\n",
        "\n",
        "print(name, age, uf)"
      ],
      "metadata": {
        "id": "A_l7GlDDfHuV"
      },
      "execution_count": null,
      "outputs": []
    },
    {
      "cell_type": "code",
      "source": [
        "#1- Escreva uma função que receba duas tuplas como entrada e \n",
        "#retorne uma única tupla que seja a concatenação das duas.\n",
        "def concatenaTupla (tp1, tp2):\n",
        "  return tp1 + tp2\n",
        "\n",
        "a = (2, 4, 5) \n",
        "b = (6, 8, 12)\n",
        "concatenaTupla(a, b)"
      ],
      "metadata": {
        "id": "u8T-pdWRmb46"
      },
      "execution_count": null,
      "outputs": []
    },
    {
      "cell_type": "code",
      "source": [
        "#2- Escreva uma função que receba uma tupla contendo o nome e endereço: contendo, \n",
        "#logradouro, número e bairro de uma pessoa e retorne uma string formatada.\n",
        "\n",
        "def formatada(tupla):\n",
        "  nome, logradouro, num, bairro = tupla\n",
        "  return f'Nome : {nome}, residente a : {logradouro}, {num}, {bairro}.'\n",
        "  \n",
        "dadosClient = ('Brian', 'Rua China', 1307, 'Bairro das Industrias')\n",
        "\n",
        "print(formatada(dadosClient))"
      ],
      "metadata": {
        "id": "zc83Bbpmogrh"
      },
      "execution_count": null,
      "outputs": []
    },
    {
      "cell_type": "code",
      "source": [
        "#3- Escreva uma função que receba uma lista de tuplas contendo nome e \n",
        "#idade de pessoas e retorne a lista ordenada por idade.\n",
        "\n",
        "nom_ida = (('Gustavo', 18), ('José', 54), ('Kenia', 49), ('Vitor', 26))\n",
        "\n",
        "sorted(nom_ida, key = lambda x:x[1]) "
      ],
      "metadata": {
        "id": "Os6xMRZNo9MR"
      },
      "execution_count": null,
      "outputs": []
    },
    {
      "cell_type": "markdown",
      "source": [
        "Dicionários {}\n",
        "----------------------------------------------\n",
        "Armazenamento baseado em \"chave-valor\""
      ],
      "metadata": {
        "id": "6Ii0kOwhc8ij"
      }
    },
    {
      "cell_type": "code",
      "source": [
        "#Criando dicionários\n",
        "#Os dicionários são definidos utilizando chaves {} \n",
        "#e os pares chave-valor são separados por dois pontos (:)\n",
        "\n",
        "#Contatos\n",
        "contatos = {\n",
        "    'Ostervaldo' : 'oster@email.com',\n",
        "    'Maristênio' : 'marist@email.com',\n",
        "    'Leroiane' : 'lero@email.com', \n",
        "    'Jozezin' : ['zezin@exemplo.com', 'zemane@xemple.com']\n",
        "}\n",
        "contatos"
      ],
      "metadata": {
        "id": "lVJ4TRgadDL_"
      },
      "execution_count": null,
      "outputs": []
    },
    {
      "cell_type": "code",
      "source": [
        "#Acessando valores\n",
        "contatos['Jozezin']"
      ],
      "metadata": {
        "id": "x9UhmkpzdQ53"
      },
      "execution_count": null,
      "outputs": []
    },
    {
      "cell_type": "code",
      "source": [
        "#Para evitar erros ao buscar por possíveis valores inexistentes, utilizar o get()\n",
        "contatos.get('Rebeca', 'Contato inexistente')"
      ],
      "metadata": {
        "id": "tSJP_yFidS-X"
      },
      "execution_count": null,
      "outputs": []
    },
    {
      "cell_type": "markdown",
      "source": [
        "Adicionando, Modificando e Removendo Pares Chave-Valor"
      ],
      "metadata": {
        "id": "ZpopZs9RdeRe"
      }
    },
    {
      "cell_type": "code",
      "source": [
        "#CRUD\n",
        "#C - CREATE\n",
        "#R - RECOVERY\n",
        "#U - UPDATE\n",
        "#D - DELETE"
      ],
      "metadata": {
        "id": "Zu_fkGxJde89"
      },
      "execution_count": null,
      "outputs": []
    },
    {
      "cell_type": "code",
      "source": [
        "#Iterando sobre dicionários\n",
        "for nome, email in contatos.items():\n",
        "  print(f'o Email {email} pertence a {nome}')"
      ],
      "metadata": {
        "id": "X-OUdY33eKZ1"
      },
      "execution_count": null,
      "outputs": []
    },
    {
      "cell_type": "markdown",
      "source": [
        "items(): \n",
        "\n",
        "É um método utilizado em dicionários em Python. Ela retorna uma lista de tuplas, em que cada tupla contém um par chave-valor do dicionário."
      ],
      "metadata": {
        "id": "isA1SCdneN09"
      }
    },
    {
      "cell_type": "code",
      "source": [
        "#métodos úteis keys(), values()\n",
        "contatos.keys()"
      ],
      "metadata": {
        "id": "v5pVhNgDeO51"
      },
      "execution_count": null,
      "outputs": []
    },
    {
      "cell_type": "code",
      "source": [
        "#Valores máximos, mínimos e ordenações\n",
        "curso = {'Alice': 8.5, 'Tiago': 7.0, 'Chico': 6.5, 'Nubia': 10}\n",
        "#quem teve o pior desempenho?\n",
        "min(curso, key=curso.get)"
      ],
      "metadata": {
        "id": "nw32yqhjeV8t"
      },
      "execution_count": null,
      "outputs": []
    },
    {
      "cell_type": "code",
      "source": [
        "#ordenar da maior nota para a menor\n",
        "sorted(curso, key=curso.get, reverse=True)"
      ],
      "metadata": {
        "id": "E3i_r5Iheg1M"
      },
      "execution_count": null,
      "outputs": []
    },
    {
      "cell_type": "code",
      "source": [
        "#3-\n",
        "provaA = {'Andre': 8.5, 'Ana': 7.0, 'Chico': 6.5, 'Nubia': 10, 'Luana': 8}\n",
        "provaB = {'Julio': 5.5, 'Aristides': 6.0, 'Sebastiana': 9.5, 'Camila': 10, 'João': 6}\n",
        "resultado_final = {}\n",
        "resultado_final.update(provaA)\n",
        "resultado_final.update(provaB)\n",
        "\n",
        "sorted(resultado_final, key=resultado_final.get, reverse=True)"
      ],
      "metadata": {
        "colab": {
          "base_uri": "https://localhost:8080/"
        },
        "id": "4KICTf2Idk29",
        "outputId": "bd6fa88b-a590-465c-fa05-c1a99b46f0cc"
      },
      "execution_count": 64,
      "outputs": [
        {
          "output_type": "execute_result",
          "data": {
            "text/plain": [
              "['Nubia',\n",
              " 'Camila',\n",
              " 'Sebastiana',\n",
              " 'Andre',\n",
              " 'Luana',\n",
              " 'Ana',\n",
              " 'Chico',\n",
              " 'Aristides',\n",
              " 'João',\n",
              " 'Julio']"
            ]
          },
          "metadata": {},
          "execution_count": 64
        }
      ]
    },
    {
      "cell_type": "code",
      "source": [
        "candidatos = list(resultado_final.keys())\n",
        "\n",
        "candidatos"
      ],
      "metadata": {
        "id": "bTTMoX8qgmyW"
      },
      "execution_count": null,
      "outputs": []
    },
    {
      "cell_type": "code",
      "source": [
        "notas = list(resultado_final.values())\n",
        "\n",
        "notas"
      ],
      "metadata": {
        "colab": {
          "base_uri": "https://localhost:8080/"
        },
        "id": "RPpSVItGiX48",
        "outputId": "25be8f47-52a0-4d3f-fc6f-b17372e31baf"
      },
      "execution_count": 65,
      "outputs": [
        {
          "output_type": "execute_result",
          "data": {
            "text/plain": [
              "[8.5, 7.0, 6.5, 10, 8, 5.5, 6.0, 9.5, 10, 6]"
            ]
          },
          "metadata": {},
          "execution_count": 65
        }
      ]
    },
    {
      "cell_type": "code",
      "source": [
        "def consultaNota(dicNotas, nome):\n",
        "  if nome in dicNotas:\n",
        "    return dicNotas[nome]\n",
        "  else:\n",
        "    return 'Candidato Inexistente'"
      ],
      "metadata": {
        "id": "Y4Jx26vqis-k"
      },
      "execution_count": 69,
      "outputs": []
    },
    {
      "cell_type": "code",
      "source": [
        "nome = input('digite nome: ')\n",
        "nota = consultaNota(resultado_final, nome)\n",
        "nota"
      ],
      "metadata": {
        "id": "bq7o-2JbxUCr"
      },
      "execution_count": null,
      "outputs": []
    }
  ]
}