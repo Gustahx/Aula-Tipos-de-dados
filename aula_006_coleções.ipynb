{
  "nbformat": 4,
  "nbformat_minor": 0,
  "metadata": {
    "colab": {
      "provenance": [],
      "authorship_tag": "ABX9TyMn7dw7I6pj5s98LygXQtXw",
      "include_colab_link": true
    },
    "kernelspec": {
      "name": "python3",
      "display_name": "Python 3"
    },
    "language_info": {
      "name": "python"
    }
  },
  "cells": [
    {
      "cell_type": "markdown",
      "metadata": {
        "id": "view-in-github",
        "colab_type": "text"
      },
      "source": [
        "<a href=\"https://colab.research.google.com/github/Gustahx/Program---Python/blob/main/aula_006_cole%C3%A7%C3%B5es.ipynb\" target=\"_parent\"><img src=\"https://colab.research.google.com/assets/colab-badge.svg\" alt=\"Open In Colab\"/></a>"
      ]
    },
    {
      "cell_type": "code",
      "execution_count": null,
      "metadata": {
        "id": "1LxOUZCnch2B"
      },
      "outputs": [],
      "source": [
        "# Crie uma lista de nomes de frutas e ordene-a em ordem decrescente.\n",
        "frutas = ['Maça', 'Banana', 'Uva', 'Pitaya', 'Laranja']\n",
        "frutas.sort(reverse=True)\n",
        "\n",
        "frutas"
      ]
    },
    {
      "cell_type": "code",
      "source": [
        "#Dada uma lista de números, retorne uma lista contendo o quadrado de cada número.\n",
        "num = [4, 6, 5, 2]\n",
        "newList = list(map(lambda x: x*x, num))\n",
        "newList"
      ],
      "metadata": {
        "id": "AS1-KAL_ldmf"
      },
      "execution_count": null,
      "outputs": []
    },
    {
      "cell_type": "code",
      "source": [
        "#Recebe uma lista de frutas, retorne uma lista de caracteres.\n",
        "fruits = ['Jaca', 'Banana', 'Maça', 'Pitaya', 'Limão']\n",
        "newList = list(map(lambda x: len(x), fruits))\n",
        "newList"
      ],
      "metadata": {
        "id": "6LNG8siRrAz5"
      },
      "execution_count": null,
      "outputs": []
    },
    {
      "cell_type": "code",
      "source": [
        "#Pegar os preços de um lista e adicionar 2 a cada um deles.\n",
        "prize = [9, 3, 5, 4, 7]\n",
        "more = list(map(lambda x: x+2, prize))\n",
        "more"
      ],
      "metadata": {
        "id": "TzdvU-4Is6CA"
      },
      "execution_count": null,
      "outputs": []
    },
    {
      "cell_type": "code",
      "source": [
        "#Apenas os Aprovados.\n",
        "notas = [6, 7, 8, 2, 4]\n",
        "aprovados = list(filter(lambda x: x>=7, notas))\n",
        "aprovados"
      ],
      "metadata": {
        "id": "YHPTZDTKvuAG"
      },
      "execution_count": null,
      "outputs": []
    },
    {
      "cell_type": "code",
      "source": [
        "#Escreva uma função que recebe uma lista de números e \n",
        "#retorna uma nova lista contendo apenas os números divisíveis por 3.\n",
        "lista = [6, 8, 9, 7]\n",
        "div = list(filter(lambda x: x%3==0, lista))\n",
        "div"
      ],
      "metadata": {
        "id": "IDNO1YLMwLRB"
      },
      "execution_count": null,
      "outputs": []
    },
    {
      "cell_type": "code",
      "source": [
        "#Escreva uma função que recebe uma lista de strings e\n",
        "#retorna uma nova lista contendo as strings em ordem reversa.\n",
        "futebol = ['Estádio', 'Arquibancada', 'Campo', 'Trave']\n",
        "futebol.sort(reverse=True)\n",
        "futebol"
      ],
      "metadata": {
        "id": "ChGm8IKRwpZt"
      },
      "execution_count": null,
      "outputs": []
    }
  ]
}