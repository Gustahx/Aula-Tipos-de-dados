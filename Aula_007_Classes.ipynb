{
  "nbformat": 4,
  "nbformat_minor": 0,
  "metadata": {
    "colab": {
      "provenance": [],
      "authorship_tag": "ABX9TyP3JAR1VyXrQ0CPLKumWW5v",
      "include_colab_link": true
    },
    "kernelspec": {
      "name": "python3",
      "display_name": "Python 3"
    },
    "language_info": {
      "name": "python"
    }
  },
  "cells": [
    {
      "cell_type": "markdown",
      "metadata": {
        "id": "view-in-github",
        "colab_type": "text"
      },
      "source": [
        "<a href=\"https://colab.research.google.com/github/Gustahx/Program---Python/blob/main/Aula_007_Classes.ipynb\" target=\"_parent\"><img src=\"https://colab.research.google.com/assets/colab-badge.svg\" alt=\"Open In Colab\"/></a>"
      ]
    },
    {
      "cell_type": "code",
      "execution_count": 2,
      "metadata": {
        "id": "ZVqLdJAjgvmB"
      },
      "outputs": [],
      "source": [
        "class Pessoa:\n",
        "  def __init__(self,name):\n",
        "    self.name = name"
      ]
    },
    {
      "cell_type": "code",
      "source": [
        "aluno = Pessoa('Gustavo')\n",
        "aluno.name"
      ],
      "metadata": {
        "colab": {
          "base_uri": "https://localhost:8080/",
          "height": 35
        },
        "id": "JHikH70uhqIr",
        "outputId": "3f2459d4-66b3-48f5-f27b-8d6e31d94259"
      },
      "execution_count": 38,
      "outputs": [
        {
          "output_type": "execute_result",
          "data": {
            "text/plain": [
              "'Gustavo'"
            ],
            "application/vnd.google.colaboratory.intrinsic+json": {
              "type": "string"
            }
          },
          "metadata": {},
          "execution_count": 38
        }
      ]
    },
    {
      "cell_type": "code",
      "source": [
        "class Funcionario:\n",
        "  def __init__(self, nome, cargo, matricula):\n",
        "    self.nome = nome\n",
        "    self.cargo = cargo\n",
        "    self.matricula = matricula"
      ],
      "metadata": {
        "id": "TrSzJCiWh--V"
      },
      "execution_count": 18,
      "outputs": []
    },
    {
      "cell_type": "code",
      "source": [
        "vend = Funcionario('Joca', 'Vendedor', 1547418)\n",
        "print(f'{vend.nome}, cargo: {vend.cargo}, mat:{vend.matricula}')"
      ],
      "metadata": {
        "colab": {
          "base_uri": "https://localhost:8080/"
        },
        "id": "EOoPSli0mYna",
        "outputId": "4cc8b233-e9f5-4452-bbde-ebd8e6fcb3b3"
      },
      "execution_count": 36,
      "outputs": [
        {
          "output_type": "stream",
          "name": "stdout",
          "text": [
            "Joca, cargo: Vendedor, mat:1547418\n"
          ]
        }
      ]
    },
    {
      "cell_type": "code",
      "source": [
        "class Cliente :\n",
        "  def __init__(self, nome, idade, sexo):\n",
        "    self.nome = nome\n",
        "    self.idade = idade\n",
        "    self.sexo = sexo\n",
        "  def detalhe(self):\n",
        "    print(f'{self.nome}, {self.idade}, {self.sexo}')"
      ],
      "metadata": {
        "id": "oQFz4yxJlqdS"
      },
      "execution_count": 21,
      "outputs": []
    },
    {
      "cell_type": "code",
      "source": [
        "cli = Cliente('Gustavo', 18, 'Masculino')\n",
        "cli.detalhe()"
      ],
      "metadata": {
        "colab": {
          "base_uri": "https://localhost:8080/"
        },
        "id": "XKQ8b06Pnh8a",
        "outputId": "2d745fc6-f60d-4262-87cd-aaf4bbe4652b"
      },
      "execution_count": 37,
      "outputs": [
        {
          "output_type": "stream",
          "name": "stdout",
          "text": [
            "Gustavo, 18, Masculino\n"
          ]
        }
      ]
    },
    {
      "cell_type": "code",
      "source": [
        "class Conta:\n",
        "  def __init__(self, titular, saldo):\n",
        "    self.titular = titular\n",
        "    self.saldo = saldo\n",
        "  def exibeSaldo(self):\n",
        "    print(f'O titular: {self.titular}, possui o saldo de: {self.saldo}')"
      ],
      "metadata": {
        "id": "q8RDhKz-omMO"
      },
      "execution_count": 31,
      "outputs": []
    },
    {
      "cell_type": "code",
      "source": [
        "extr = Conta('Gustavo', 'R$0,00')\n",
        "extr.exibeSaldo()"
      ],
      "metadata": {
        "colab": {
          "base_uri": "https://localhost:8080/"
        },
        "id": "OLhpsTAUpNtM",
        "outputId": "41dae57a-085b-40d2-a81f-429f9aa59672"
      },
      "execution_count": 35,
      "outputs": [
        {
          "output_type": "stream",
          "name": "stdout",
          "text": [
            "O titular: Gustavo, possui o saldo de: R$0,00\n"
          ]
        }
      ]
    },
    {
      "cell_type": "code",
      "source": [
        "class Animal:\n",
        "  def __init__(self, name):\n",
        "    self.name = name\n",
        "  def emitirSom(self) :\n",
        "    pass\n",
        "\n",
        "class Ovelha(Animal):\n",
        "  def emitirSom(self):\n",
        "    print('Béeeee')\n",
        "\n",
        "class Cachorro(Animal):\n",
        "  def emitirSom(self):\n",
        "    print('AuAu')\n",
        "\n",
        "class Gato(Animal):\n",
        "  def emitirSom(self):\n",
        "    print('Miaaaaaaaaaaaaaaaaau')\n"
      ],
      "metadata": {
        "id": "4-fbyeAgq4DC"
      },
      "execution_count": 41,
      "outputs": []
    },
    {
      "cell_type": "code",
      "source": [
        "ovelhinha = Ovelha('Billy')\n",
        "doguinho = Cachorro('Thor')\n",
        "gatito = Gato('Tom')\n",
        "\n",
        "ovelhinha.emitirSom()\n",
        "doguinho.emitirSom()\n",
        "gatito.emitirSom()"
      ],
      "metadata": {
        "id": "tPATiFerumSU"
      },
      "execution_count": null,
      "outputs": []
    },
    {
      "cell_type": "code",
      "source": [
        "class Veiculo:\n",
        "  def __init__(self, marca, modelo):\n",
        "    self.marca = marca\n",
        "    self.modelo = modelo\n",
        "  def  \n",
        "    pass\n",
        "\n",
        "class Carro:\n",
        "\n",
        "\n",
        "\n",
        "class Moto  \n"
      ],
      "metadata": {
        "id": "CY-5SnwYvSV0"
      },
      "execution_count": null,
      "outputs": []
    }
  ]
}