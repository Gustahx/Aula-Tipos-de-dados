{
  "nbformat": 4,
  "nbformat_minor": 0,
  "metadata": {
    "colab": {
      "provenance": []
    },
    "kernelspec": {
      "name": "python3",
      "display_name": "Python 3"
    },
    "language_info": {
      "name": "python"
    }
  },
  "cells": [
    {
      "cell_type": "code",
      "execution_count": null,
      "metadata": {
        "id": "QfQ5z5x4En6V"
      },
      "outputs": [],
      "source": [
        "#Declaração da função\n",
        "def my_first_function():\n",
        "  print('Minha Primeira Função')"
      ]
    },
    {
      "cell_type": "code",
      "source": [
        "#Chamando uma Função\n",
        "my_first_function()"
      ],
      "metadata": {
        "id": "uNUjb_MPH4zL"
      },
      "execution_count": null,
      "outputs": []
    },
    {
      "cell_type": "code",
      "source": [
        "def pronomeTratam(pronome):\n",
        "  print(pronome + \"Gustavo\")"
      ],
      "metadata": {
        "id": "ITFekT76Igp6"
      },
      "execution_count": null,
      "outputs": []
    },
    {
      "cell_type": "code",
      "source": [
        "pronomeTratam('Doutor ')\n",
        "pronomeTratam('Ilmo ')\n",
        "pronomeTratam('Mr.')"
      ],
      "metadata": {
        "id": "a2zJLH0nI0Kh"
      },
      "execution_count": null,
      "outputs": []
    },
    {
      "cell_type": "code",
      "source": [
        "def tratamNome(pronome, nome):\n",
        "   print(pronome, nome)"
      ],
      "metadata": {
        "id": "2-pt6BOHJ0R7"
      },
      "execution_count": null,
      "outputs": []
    },
    {
      "cell_type": "code",
      "source": [
        "tratamNome('Dr.','Merentiel')"
      ],
      "metadata": {
        "id": "fI0dCZLtJz7a"
      },
      "execution_count": null,
      "outputs": []
    },
    {
      "cell_type": "code",
      "source": [
        "#Função que recebe como parâmetros Nome e Ano de nascimento \n",
        "#Calcula a idade do sujeito e retorna algo como\n",
        "# Asdrúbal tem 28 anos\n",
        "def nomeEAno(nome, ano):\n",
        "  idade = 2023 - ano\n",
        "  print(nome, idade, 'anos')"
      ],
      "metadata": {
        "id": "T36sw3rTK19F"
      },
      "execution_count": null,
      "outputs": []
    },
    {
      "cell_type": "code",
      "source": [
        "nomeEAno('Gustavo', 2004)"
      ],
      "metadata": {
        "id": "YKVhqykiLE5s"
      },
      "execution_count": null,
      "outputs": []
    },
    {
      "cell_type": "code",
      "source": [
        "#Uma função que recebe Altura e Peso e retorna o IMC:\n",
        "#Fórmula IMC peso/altura**2\n",
        "def imc(peso, altura):\n",
        "  return peso/altura**2"
      ],
      "metadata": {
        "id": "1fYUSr6zMTYE"
      },
      "execution_count": null,
      "outputs": []
    },
    {
      "cell_type": "code",
      "source": [
        "imc(65.5, 1.70) "
      ],
      "metadata": {
        "id": "H10sGfJ8MTkj"
      },
      "execution_count": null,
      "outputs": []
    },
    {
      "cell_type": "code",
      "source": [
        "peso = float(input(\"Digite o peso: \"))\n",
        "altura = int(input(\"Digite a sua altura: \"))\n",
        "def imc (peso, altura):\n",
        "  print(peso/altura**2)"
      ],
      "metadata": {
        "id": "plM_A6YbMT1D"
      },
      "execution_count": null,
      "outputs": []
    },
    {
      "cell_type": "code",
      "source": [
        "imc(peso, altura**2) "
      ],
      "metadata": {
        "id": "Pkl-BOXjRt-p"
      },
      "execution_count": null,
      "outputs": []
    },
    {
      "cell_type": "code",
      "source": [
        "# O cálculo de Juros Simples é dado pela fórmula:\n",
        "# J = C * i * t\n",
        "# Sendo :\n",
        "# J = juros simples\n",
        "# C = capital inicial\n",
        "# i = taxa de juros\n",
        "# t = tempo de aplicação\n",
        "#Crie uma função que recebe um valor de empréstimo e o \n",
        "#tempo e retorne quanto será pago de juros ao final do período\n",
        "#use uma taxa de juros de 2,5%."
      ],
      "metadata": {
        "id": "o_wVIJyeaAFf"
      },
      "execution_count": null,
      "outputs": []
    },
    {
      "cell_type": "code",
      "source": [
        "def jurosSimples(valor, tempo):\n",
        "  return valor * 0.025 * tempo"
      ],
      "metadata": {
        "id": "VssxB3Zdcw7s"
      },
      "execution_count": null,
      "outputs": []
    },
    {
      "cell_type": "code",
      "source": [
        "jurosSimples(1000, 5)"
      ],
      "metadata": {
        "id": "TPPkNGEvdM6e"
      },
      "execution_count": null,
      "outputs": []
    },
    {
      "cell_type": "code",
      "source": [
        "def valorTotalEmprestimo(valor, tempo):\n",
        "  return valor + jurosSimples(valor, tempo) "
      ],
      "metadata": {
        "id": "1_FjGTisdUAM"
      },
      "execution_count": null,
      "outputs": []
    },
    {
      "cell_type": "code",
      "source": [
        "valorTotalEmprestimo(1000,12)"
      ],
      "metadata": {
        "id": "I1FhRGWGdUUW"
      },
      "execution_count": null,
      "outputs": []
    }
  ]
}