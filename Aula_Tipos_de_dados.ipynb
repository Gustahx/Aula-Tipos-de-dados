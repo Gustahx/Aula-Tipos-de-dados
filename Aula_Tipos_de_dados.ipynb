{
  "nbformat": 4,
  "nbformat_minor": 0,
  "metadata": {
    "colab": {
      "provenance": []
    },
    "kernelspec": {
      "name": "python3",
      "display_name": "Python 3"
    },
    "language_info": {
      "name": "python"
    }
  },
  "cells": [
    {
      "cell_type": "code",
      "execution_count": null,
      "metadata": {
        "id": "xIX0YQ_ABq00"
      },
      "outputs": [],
      "source": [
        "print('meu primeiro notebook')"
      ]
    },
    {
      "cell_type": "code",
      "source": [
        "nome = 'Gustavo Daniel'\n",
        "print(nome)"
      ],
      "metadata": {
        "id": "l3F0zRUmCVfZ"
      },
      "execution_count": null,
      "outputs": []
    },
    {
      "cell_type": "code",
      "source": [
        "#Descobrir Tipo de variável\n",
        "type(nome)"
      ],
      "metadata": {
        "id": "JgBYi3g_Coo2"
      },
      "execution_count": null,
      "outputs": []
    },
    {
      "cell_type": "code",
      "source": [
        "h = 100\n",
        "j = 28.6\n",
        "k = h > j\n",
        "l = 'mundial'"
      ],
      "metadata": {
        "id": "n3p0pW7SMrZd"
      },
      "execution_count": null,
      "outputs": []
    },
    {
      "cell_type": "code",
      "source": [
        "type(j)"
      ],
      "metadata": {
        "id": "s8VEdaDdM4QT"
      },
      "execution_count": null,
      "outputs": []
    },
    {
      "cell_type": "markdown",
      "source": [
        "Tipos de dados Booleanos"
      ],
      "metadata": {
        "id": "-eGiPcxKK4uH"
      }
    },
    {
      "cell_type": "code",
      "source": [
        "a = 200 < 300\n",
        "b = 85 == 1\n",
        "c ='gustavo' == 'gustavo'\n",
        "d = 25 == '25'\n",
        "e = 30 == (6*5)"
      ],
      "metadata": {
        "id": "w6gCdF2iLGF_"
      },
      "execution_count": null,
      "outputs": []
    },
    {
      "cell_type": "code",
      "source": [
        "print(a)\n",
        "print(b)\n",
        "print(c)\n",
        "print(d)\n",
        "print(e)"
      ],
      "metadata": {
        "id": "Ls4l0ZF0Lc8j"
      },
      "execution_count": null,
      "outputs": []
    },
    {
      "cell_type": "markdown",
      "source": [
        "Input de dados no Python"
      ],
      "metadata": {
        "id": "UtRT8HBOUZ1D"
      }
    },
    {
      "cell_type": "code",
      "source": [
        "nota1 = float(input('Digite a nota , pae! '))\n",
        "nota2 = float(input('Digite a segunda nota! '))\n",
        "nota3 = float(input('Digite a terceira nota! '))\n",
        "media = (nota1 + nota2 + nota3)/3\n",
        "print(media)"
      ],
      "metadata": {
        "id": "q8v8zH8rUin6"
      },
      "execution_count": null,
      "outputs": []
    },
    {
      "cell_type": "code",
      "source": [
        "if (media < 4) :\n",
        "  print('Reprovado')\n",
        "elif(media < 7):\n",
        "  print('Recuperação')\n",
        "else:\n",
        "  print('Aprovado')"
      ],
      "metadata": {
        "id": "dqnOg2FXW66H"
      },
      "execution_count": null,
      "outputs": []
    },
    {
      "cell_type": "markdown",
      "source": [
        "Exercício\n",
        "1."
      ],
      "metadata": {
        "id": "CY9f9wvq8DTd"
      }
    },
    {
      "cell_type": "code",
      "source": [
        "idade = int (input('Digite a idade do atleta! '))\n",
        "if (idade < 14 ) :\n",
        "  print('Infantil')\n",
        "elif (idade < 18 ) :\n",
        "  print('Juvenil')\n",
        "else :\n",
        "  print('Senior')"
      ],
      "metadata": {
        "id": "KeH7Stvn8Ir7"
      },
      "execution_count": null,
      "outputs": []
    },
    {
      "cell_type": "markdown",
      "source": [
        "Exercício 2."
      ],
      "metadata": {
        "id": "Tsx7NSxr9b4J"
      }
    },
    {
      "cell_type": "code",
      "source": [
        "if ( imc < ) :\n",
        "  print('')\n",
        "elif (peso < ) :\n",
        "  print('')\n",
        "else:\n",
        "  print('')"
      ],
      "metadata": {
        "id": "D8_1cfnU9ebC"
      },
      "execution_count": null,
      "outputs": []
    }
  ]
}