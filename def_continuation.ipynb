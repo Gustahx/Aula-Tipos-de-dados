{
  "nbformat": 4,
  "nbformat_minor": 0,
  "metadata": {
    "colab": {
      "provenance": [],
      "authorship_tag": "ABX9TyNzVCVaLyg4eeHd6wlk5keJ",
      "include_colab_link": true
    },
    "kernelspec": {
      "name": "python3",
      "display_name": "Python 3"
    },
    "language_info": {
      "name": "python"
    }
  },
  "cells": [
    {
      "cell_type": "markdown",
      "metadata": {
        "id": "view-in-github",
        "colab_type": "text"
      },
      "source": [
        "<a href=\"https://colab.research.google.com/github/Gustahx/Program---Python/blob/main/def_continuation.ipynb\" target=\"_parent\"><img src=\"https://colab.research.google.com/assets/colab-badge.svg\" alt=\"Open In Colab\"/></a>"
      ]
    },
    {
      "cell_type": "code",
      "execution_count": 1,
      "metadata": {
        "id": "g3FwM0O9JVfC"
      },
      "outputs": [],
      "source": [
        "#Função calcula média\n",
        "\n",
        "def calculaMedia(x, y, z):\n",
        "  return (x+y+z)/3"
      ]
    },
    {
      "cell_type": "code",
      "source": [
        "a = float(input('Nota 1: '))\n",
        "b = float(input('Nota 2: '))\n",
        "c = float(input('Nota 3: '))\n",
        "\n",
        "calculaMedia(a, b, c)"
      ],
      "metadata": {
        "id": "ep0DhSmrJ_uw"
      },
      "execution_count": null,
      "outputs": []
    },
    {
      "cell_type": "code",
      "source": [
        "#Argumentos arbitrários *args\n",
        "#Quando não se tem certeza quantos argumentos são passados pela função.\n",
        "\n",
        "def mediaTotal(*notas):\n",
        "  soma = 0\n",
        "  for nota in notas:\n",
        "    soma += nota\n",
        "  media = soma/len(notas)\n",
        "  print('A média é: ', media)"
      ],
      "metadata": {
        "id": "r8pCtyvKMVdq"
      },
      "execution_count": 12,
      "outputs": []
    },
    {
      "cell_type": "code",
      "source": [
        "mediaTotal(6,7,8,4,5,6,2,9,)"
      ],
      "metadata": {
        "id": "_r7hRUCpOJLZ"
      },
      "execution_count": null,
      "outputs": []
    },
    {
      "cell_type": "code",
      "source": [
        "#Recebe uma lista de numeros e retorna o maior.\n",
        "def retornaMaior(*numbers):\n",
        "  maior = 0\n",
        "  for num in numbers:\n",
        "    if(num >= maior):\n",
        "      maior = num\n",
        "  return maior "
      ],
      "metadata": {
        "id": "j4XOODfNVAnQ"
      },
      "execution_count": 23,
      "outputs": []
    },
    {
      "cell_type": "code",
      "source": [
        "retornaMaior(5, 6, 7, 25, 8)"
      ],
      "metadata": {
        "id": "r7ZA2J7wb2-x"
      },
      "execution_count": null,
      "outputs": []
    },
    {
      "cell_type": "code",
      "source": [
        "def returnMaior(numeros):\n",
        "  return max(numeros)"
      ],
      "metadata": {
        "id": "a-0u9A6TcDA_"
      },
      "execution_count": 25,
      "outputs": []
    },
    {
      "cell_type": "code",
      "source": [
        "notas = [7, 8, 5, 4, 6, 9]\n",
        "\n",
        "returnMaior(notas)"
      ],
      "metadata": {
        "id": "XQFuxt9EdYzJ"
      },
      "execution_count": null,
      "outputs": []
    },
    {
      "cell_type": "code",
      "source": [
        "#Valor de Parâmetro padrão.\n",
        "def nacionalidade(country = 'Cuba'):\n",
        "  print('Eu nasci em: '+ country)"
      ],
      "metadata": {
        "id": "6IYyqSlWdlO5"
      },
      "execution_count": 27,
      "outputs": []
    },
    {
      "cell_type": "code",
      "source": [
        "nacionalidade('Brasil')\n",
        "nacionalidade('França')\n",
        "nacionalidade('Vietnã')\n",
        "nacionalidade()"
      ],
      "metadata": {
        "id": "WMAPvm_We78g"
      },
      "execution_count": null,
      "outputs": []
    },
    {
      "cell_type": "code",
      "source": [
        "#1 Escreva uma função que recebe dois parâmetros numéricos e \n",
        "#retorna a soma desses números.\n",
        "\n",
        "def numbers(x,y):\n",
        "  return  x+y"
      ],
      "metadata": {
        "id": "IzViLTJzfU2A"
      },
      "execution_count": 30,
      "outputs": []
    },
    {
      "cell_type": "code",
      "source": [
        "a = int(input('Digite um número: '))\n",
        "b = int(input('Digite um número: '))\n",
        "\n",
        "numbers(a, b)"
      ],
      "metadata": {
        "id": "5E2GZD02gWdB"
      },
      "execution_count": null,
      "outputs": []
    },
    {
      "cell_type": "code",
      "source": [
        "#2 Escreva uma função que recebe um número e \n",
        "#retorna o seu valor absoluto.\n",
        "\n",
        "def valorAbsoluto(num):\n",
        "  if(num < 0):\n",
        "    num = num * -1\n",
        "  return num "
      ],
      "metadata": {
        "id": "T2vAUCwxgwm5"
      },
      "execution_count": 44,
      "outputs": []
    },
    {
      "cell_type": "code",
      "source": [
        "valorAbsoluto(-9)"
      ],
      "metadata": {
        "id": "M6Po3z-4gw3Q"
      },
      "execution_count": null,
      "outputs": []
    },
    {
      "cell_type": "code",
      "source": [
        "#3 Escreva uma função que recebe uma lista de números e \n",
        "#retorna o maior número da lista.\n",
        "\n",
        "def numMaior(num):\n",
        " return max(num)"
      ],
      "metadata": {
        "id": "MKfy6JNNg2l4"
      },
      "execution_count": 41,
      "outputs": []
    },
    {
      "cell_type": "code",
      "source": [
        "num = [7, 8, 2, 3]\n",
        "\n",
        "numMaior(num)"
      ],
      "metadata": {
        "id": "VxaSeSQpg45w"
      },
      "execution_count": null,
      "outputs": []
    },
    {
      "cell_type": "code",
      "source": [
        "#4 Escreva uma função que recebe uma lista de palavras e \n",
        "#retorna uma lista com as palavras que possuem mais de três letras.\n",
        "\n",
        "def maiorque3(lista):\n",
        "  novalista = []\n",
        "  for i in lista:\n",
        "    if(len(i) > 3):\n",
        "      novalista.append(i) \n",
        "  return novalista"
      ],
      "metadata": {
        "id": "ZE8YulzIg5IY"
      },
      "execution_count": 54,
      "outputs": []
    },
    {
      "cell_type": "code",
      "source": [
        "palavras = ['faca', 'vasco', 'nobel','paz', 'fé']\n",
        "maiorque3(palavras)"
      ],
      "metadata": {
        "id": "RizZC9gritRB"
      },
      "execution_count": null,
      "outputs": []
    }
  ]
}